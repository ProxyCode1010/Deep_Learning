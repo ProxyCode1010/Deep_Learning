{
 "cells": [
  {
   "cell_type": "markdown",
   "id": "f7cdc4b9",
   "metadata": {},
   "source": [
    "https://colab.research.google.com/drive/1lexRUY37fJd6op-WiJicPRB65PwA8YaO?usp=sharing"
   ]
  }
 ],
 "metadata": {
  "kernelspec": {
   "display_name": "Python 3",
   "language": "python",
   "name": "python3"
  },
  "language_info": {
   "name": "python",
   "version": "3.10.11"
  }
 },
 "nbformat": 4,
 "nbformat_minor": 5
}
