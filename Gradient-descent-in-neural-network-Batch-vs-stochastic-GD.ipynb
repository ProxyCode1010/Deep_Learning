{
 "cells": [
  {
   "cell_type": "markdown",
   "id": "3984a3ac",
   "metadata": {},
   "source": [
    "https://colab.research.google.com/drive/131xWdpUiy_f87tN0dRpKaEvOxR9DoiSB?usp=sharing#scrollTo=UE75q5qZ8ajR"
   ]
  }
 ],
 "metadata": {
  "kernelspec": {
   "display_name": "Python 3",
   "language": "python",
   "name": "python3"
  },
  "language_info": {
   "codemirror_mode": {
    "name": "ipython",
    "version": 3
   },
   "file_extension": ".py",
   "mimetype": "text/x-python",
   "name": "python",
   "nbconvert_exporter": "python",
   "pygments_lexer": "ipython3",
   "version": "3.10.11"
  }
 },
 "nbformat": 4,
 "nbformat_minor": 5
}
