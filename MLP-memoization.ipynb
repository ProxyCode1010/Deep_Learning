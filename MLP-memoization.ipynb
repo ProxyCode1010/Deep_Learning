{
 "cells": [
  {
   "cell_type": "code",
   "execution_count": 16,
   "id": "ae40ccc0",
   "metadata": {},
   "outputs": [],
   "source": [
    "#fib\n",
    "import time\n",
    "def fib(n,d):\n",
    "    if n in d:\n",
    "        return d[n]\n",
    "    else:\n",
    "        d[n] = fib(n-1,d) + fib(n-2,d)\n",
    "        return d[n]"
   ]
  },
  {
   "cell_type": "code",
   "execution_count": 17,
   "id": "2f89ea1f",
   "metadata": {},
   "outputs": [
    {
     "name": "stdout",
     "output_type": "stream",
     "text": [
      "Time taken -  0.0\n"
     ]
    }
   ],
   "source": [
    "# fib(10)\n",
    "\n",
    "start = time.time()\n",
    "d = {0:1,1:1}\n",
    "fib(39,d)\n",
    "end = time.time()\n",
    "print('Time taken - ',end-start)"
   ]
  }
 ],
 "metadata": {
  "kernelspec": {
   "display_name": "Python 3",
   "language": "python",
   "name": "python3"
  },
  "language_info": {
   "codemirror_mode": {
    "name": "ipython",
    "version": 3
   },
   "file_extension": ".py",
   "mimetype": "text/x-python",
   "name": "python",
   "nbconvert_exporter": "python",
   "pygments_lexer": "ipython3",
   "version": "3.10.11"
  }
 },
 "nbformat": 4,
 "nbformat_minor": 5
}
